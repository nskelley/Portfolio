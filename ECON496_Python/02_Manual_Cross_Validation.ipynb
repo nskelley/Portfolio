{
 "cells": [
  {
   "cell_type": "markdown",
   "metadata": {},
   "source": [
    "# Cross Validation in sklearn\n",
    "\n",
    "Sources:\n",
    "* [Efficient LOO Paper](https://pubmed.ncbi.nlm.nih.gov/28469846/)\n",
    "* [RLS Technical Report](http://cbcl.mit.edu/publications/ps/MIT-CSAIL-TR-2007-025.pdf)\n",
    "* [sklearn Linear Models User Guide](https://scikit-learn.org/stable/modules/linear_model.html)\n",
    "* [slkearn Cross Validation User Guide](https://scikit-learn.org/stable/modules/cross_validation.html)\n",
    "\n",
    "## LASSO, Ridge, and Elastic Net\n",
    "\n",
    "`sklearn` has built-in functions for identifying cross-validated estimators for each of the models: `LassoCV`, `RidgeCV`, and `ElasticNetCV`.\n",
    "\n",
    "### Lasso\n",
    "\n",
    "$$\\argmin_{\\beta}||y-X\\beta||_2^2+\\alpha||\\beta||_1$$\n",
    "\n",
    "```Python\n",
    "LassoCV(eps, n_alphas, cv).fit(X, y)\n",
    "```\n",
    "* `eps`: $\\frac{\\alpha_{min}}{\\alpha_{max}} = eps$; default is `1e-3`\n",
    "* `n_alpha`: number of alphas along the path (length defined by `eps`); default is 100\n",
    "* `cv`: if an integer is specified, the number of folds; default is 5 (5 folds)\n",
    "\n",
    "```Python\n",
    "LassoLarsCV(cv, max_n_alphas).fit(X, y)\n",
    "```\n",
    "* `cv`: if an integer is specified, the number of folds; default is 5-fold cross validation\n",
    "* `max_n_alphas`: the *maximum* number of alphas to try; default is 1000\n",
    "* the `eps` parameter is available as well, but it is described differently than in `LassoCV`, and its default value is `2.220446...e-16`\n",
    "\n",
    "`LassoLarsCV` uses the Least Angle Regression (LARS) algorithm and is described as \"exploring more relevant values of `alpha`\" and faster than `LassoCV` when \"the number of samples is very small compared to the number of features.\" The documentation seems to favor the LARS algorithm in general, but it also notes that LARS is more sensitive to noise and that `LassoCV` is preferable to `LassoLarsCV` for \"high-dimensional datasets with many collinear features.\"\n",
    "\n",
    "### Ridge\n",
    "\n",
    "$$\\argmin_{\\beta}||y-X\\beta||_2^2+\\alpha||\\beta||_2^2$$\n",
    "\n",
    "```Python\n",
    "RidgeCV(alphas, cv).fit(X, y)\n",
    "```\n",
    "* `alphas`: array of alpha values to dry: defaults to `(0.1, 1.0, 10.0)`\n",
    "* `cv`: if an integer is specified, the number of folds; defaults to using efficient Leave-One-Out cross validation\n",
    "\n",
    "Efficient LOO cross validation is evidently a different algorithm that is able to at least approximate the LOO estimator (with a pretty high degree of accuracy if Raoul's code from a few weeks ago is representatitve of the norm).\n",
    "\n",
    "Ridge is the only model that has efficient LOO cross validation. The documentation argues that in general, 5- or 10-fold cross validation is preferable to LOO, regardless of computational power required to obtain the LOO estimator.\n",
    "\n",
    "### Elastic Net\n",
    "\n",
    "$$\\argmin_{\\beta}||y-X\\beta||_2^2+\\alpha\\rho||\\beta||_1 + \\frac{\\alpha(1-\\rho)}{2}||\\beta||_2^2 \\;\\;\\text{s.t.}\\;\\; \\rho \\in [0,1]$$\n",
    "\n",
    "`ElasticNetCV` sets both the $\\alpha$ and $\\rho$ (weight of $L_1$ penalty) parameters.\n",
    "\n",
    "```Python\n",
    "ElasticNetCV(l1_ratio, eps, n_alphas, cv).fit(X, y)\n",
    "```\n",
    "* `l1_ratio`: if a float in $[0,1]$, the weight of the $L_1$ penalty (and $\\rho$ will not be set by the function); if a list of floats in $[0,1]$, a list of weights to try in the cross validation (and $\\rho$ will be set by the function); default is 0.5\n",
    "* `eps`: $\\frac{\\alpha_{min}}{\\alpha_{max}}$; default is `1e-3`\n",
    "* `n_alphas`: number of alphas along the path (length set by `eps`)\n",
    "* `cv`: if an integer is specified, the number of folds; default is 5-fold cross validation\n",
    "\n",
    "## Manual Cross Validation"
   ]
  },
  {
   "cell_type": "code",
   "execution_count": 2,
   "metadata": {},
   "outputs": [],
   "source": [
    "import numpy as np\n",
    "import pandas as pd\n",
    "import seaborn as sns\n",
    "import matplotlib.pyplot as plt\n",
    "from itertools import cycle\n",
    "from sklearn import datasets\n",
    "from sklearn import linear_model"
   ]
  },
  {
   "cell_type": "code",
   "execution_count": 6,
   "metadata": {},
   "outputs": [],
   "source": [
    "diab = datasets.load_diabetes()\n",
    "data = np.c_[diab.data, diab.target]\n",
    "cols = np.append(diab.feature_names, [\"Target\"])\n",
    "diab = pd.DataFrame(data, columns = cols)\n",
    "del(cols, data)"
   ]
  },
  {
   "cell_type": "code",
   "execution_count": 24,
   "metadata": {},
   "outputs": [],
   "source": [
    "# basic parameters\n",
    "df = diab\n",
    "numFolds = 5\n",
    "alphas = np.linspace(0, 0.01, 100)\n",
    "outcomeColumn = \"Target\"\n",
    "\n",
    "# shuffle and separate into folds\n",
    "shuffled = df.sample(frac = 1)\n",
    "result = np.array_split(shuffled, numFolds)"
   ]
  },
  {
   "cell_type": "code",
   "execution_count": 18,
   "metadata": {},
   "outputs": [],
   "source": [
    "def foldMSE(alph, folds, foldNum):\n",
    "    # set aside testing fold #i\n",
    "    testSet = folds[foldNum]\n",
    "    \n",
    "    # combine the other (n-1) folds into the training set\n",
    "    remainingFolds = list(range(len(folds)))\n",
    "    remainingFolds.remove(foldNum)\n",
    "    trainSet = pd.concat([folds[i] for i in remainingFolds])\n",
    "\n",
    "    # convert sets to X and y form for sklearn\n",
    "    features = list(trainSet.columns)\n",
    "    features.remove(outcomeColumn)\n",
    "    train_X = trainSet.loc[:, features]\n",
    "    train_y = trainSet[outcomeColumn]\n",
    "\n",
    "    test_X = testSet.loc[:, features]\n",
    "    test_y = testSet[outcomeColumn]\n",
    "\n",
    "    # run ridge regression\n",
    "    ridgeModel = linear_model.Ridge(alpha = alph).fit(train_X, train_y)\n",
    "    \n",
    "    # collect MSE from testing set and return\n",
    "    MSE = np.mean((test_y - ridgeModel.predict(test_X))**2)\n",
    "    return(MSE)"
   ]
  },
  {
   "cell_type": "code",
   "execution_count": 25,
   "metadata": {},
   "outputs": [
    {
     "data": {
      "text/html": [
       "<div>\n",
       "<style scoped>\n",
       "    .dataframe tbody tr th:only-of-type {\n",
       "        vertical-align: middle;\n",
       "    }\n",
       "\n",
       "    .dataframe tbody tr th {\n",
       "        vertical-align: top;\n",
       "    }\n",
       "\n",
       "    .dataframe thead th {\n",
       "        text-align: right;\n",
       "    }\n",
       "</style>\n",
       "<table border=\"1\" class=\"dataframe\">\n",
       "  <thead>\n",
       "    <tr style=\"text-align: right;\">\n",
       "      <th></th>\n",
       "      <th>alpha</th>\n",
       "      <th>sumMSE</th>\n",
       "    </tr>\n",
       "  </thead>\n",
       "  <tbody>\n",
       "    <tr>\n",
       "      <th>11</th>\n",
       "      <td>0.001111</td>\n",
       "      <td>14850.766298</td>\n",
       "    </tr>\n",
       "  </tbody>\n",
       "</table>\n",
       "</div>"
      ],
      "text/plain": [
       "       alpha        sumMSE\n",
       "11  0.001111  14850.766298"
      ]
     },
     "execution_count": 25,
     "metadata": {},
     "output_type": "execute_result"
    }
   ],
   "source": [
    "# dataframe for storing alpha information\n",
    "alphaDF = pd.DataFrame()\n",
    "alphaDF[\"alpha\"] = alphas\n",
    "alphaDF[\"sumMSE\"] = np.nan\n",
    "\n",
    "# for each alpha\n",
    "for alpha in alphas:\n",
    "    sumMSE = 0\n",
    "    # for each testing fold\n",
    "    for currentFold in range(numFolds):\n",
    "        sumMSE += foldMSE(alpha, result, currentFold)\n",
    "    # save sum of MSEs from each of the n testing folds to the current alpha value\n",
    "    alphaDF.loc[alphaDF[\"alpha\"] == alpha, \"sumMSE\"] = sumMSE\n",
    "\n",
    "# identify alpha with lowest sum MSE\n",
    "alphaDF.loc[alphaDF[\"sumMSE\"] == min(alphaDF[\"sumMSE\"])]"
   ]
  },
  {
   "cell_type": "code",
   "execution_count": 26,
   "metadata": {},
   "outputs": [
    {
     "data": {
      "text/plain": [
       "<AxesSubplot:xlabel='alpha', ylabel='sumMSE'>"
      ]
     },
     "execution_count": 26,
     "metadata": {},
     "output_type": "execute_result"
    },
    {
     "data": {
      "image/png": "[encoded data removed]",
      "text/plain": [
       "<Figure size 432x288 with 1 Axes>"
      ]
     },
     "metadata": {
      "needs_background": "light"
     },
     "output_type": "display_data"
    }
   ],
   "source": [
    "sns.lineplot(x = \"alpha\", y = \"sumMSE\", data = alphaDF)"
   ]
  }
 ],
 "metadata": {
  "interpreter": {
   "hash": "41904860a0dccf3e0b69472ecaa49736c5b89ce6339ef4ad36421b487e6be88e"
  },
  "kernelspec": {
   "display_name": "Python 3.8.2 ('getting_started')",
   "language": "python",
   "name": "python3"
  },
  "language_info": {
   "codemirror_mode": {
    "name": "ipython",
    "version": 3
   },
   "file_extension": ".py",
   "mimetype": "text/x-python",
   "name": "python",
   "nbconvert_exporter": "python",
   "pygments_lexer": "ipython3",
   "version": "3.8.2"
  },
  "orig_nbformat": 4
 },
 "nbformat": 4,
 "nbformat_minor": 2
}
